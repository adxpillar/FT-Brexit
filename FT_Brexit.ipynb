{
  "nbformat": 4,
  "nbformat_minor": 0,
  "metadata": {
    "colab": {
      "name": "FT-Brexit.ipynb",
      "provenance": [],
      "collapsed_sections": [],
      "authorship_tag": "ABX9TyMHN+ViBcQMsmbEyA0a+rIC"
    },
    "kernelspec": {
      "name": "python3",
      "display_name": "Python 3"
    }
  },
  "cells": [
    {
      "cell_type": "markdown",
      "metadata": {
        "id": "yQUf6XhMZ2Ch"
      },
      "source": [
        "### Real text analysis of Financial Times brexit articles with spaCy\n",
        "We would like to:\n",
        "Extract the names of all the characters mentioned in the all of the Financial Times brexit articles published from 07/2018 to 02/2020.  \n",
        "Visualize characters' occurences with regards to relative position in all articles.  \n",
        "Authomatically describe any character from the database of articles.  \n",
        "Find out which characters have been mentioned in a context of 'no deal'.  \n",
        "Build keywords extraction that could be used to display a word cloud.  \n"
      ]
    },
    {
      "cell_type": "code",
      "metadata": {
        "id": "wCPkhbRbTptR"
      },
      "source": [
        "# Download data from Kaggle \n",
        "# install kaggle through kaggle json\n",
        "!pip install -q Kaggle"
      ],
      "execution_count": 1,
      "outputs": []
    },
    {
      "cell_type": "code",
      "metadata": {
        "id": "lLyO2UCGT8Qn"
      },
      "source": [
        "# upload kaggle json \n",
        "from google.colab import files \n",
        "files.upload()"
      ],
      "execution_count": 4,
      "outputs": []
    },
    {
      "cell_type": "code",
      "metadata": {
        "id": "pXn24CLPUFGB",
        "outputId": "151dcf21-6916-4ed8-c405-3ca9280112e7",
        "colab": {
          "base_uri": "https://localhost:8080/",
          "height": 37
        }
      },
      "source": [
        "# create a new folder named kaggle, \n",
        "# copy kaggle.json into the kaggle folder, \n",
        "# and set read-write permissions only for you(user)\n",
        "!mkdir -p ~/.kaggle\n",
        "!cp kaggle.json ~/.kaggle/\n",
        "'chmod 600 /root/.kaggle/kaggle.json'"
      ],
      "execution_count": 3,
      "outputs": [
        {
          "output_type": "execute_result",
          "data": {
            "application/vnd.google.colaboratory.intrinsic+json": {
              "type": "string"
            },
            "text/plain": [
              "'chmod 600 /root/.kaggle/kaggle.json'"
            ]
          },
          "metadata": {
            "tags": []
          },
          "execution_count": 3
        }
      ]
    },
    {
      "cell_type": "code",
      "metadata": {
        "id": "cRrNhsHsVE16",
        "outputId": "91b67740-4b12-4075-aee0-34889c965c99",
        "colab": {
          "base_uri": "https://localhost:8080/"
        }
      },
      "source": [
        "# download dataset through data API \n",
        "!kaggle datasets download -d beenoyt/financial-times-brexit-articles-database\n"
      ],
      "execution_count": 5,
      "outputs": [
        {
          "output_type": "stream",
          "text": [
            "Warning: Your Kaggle API key is readable by other users on this system! To fix this, you can run 'chmod 600 /root/.kaggle/kaggle.json'\n",
            "Downloading financial-times-brexit-articles-database.zip to /content\n",
            "  0% 0.00/3.03M [00:00<?, ?B/s]\n",
            "100% 3.03M/3.03M [00:00<00:00, 100MB/s]\n"
          ],
          "name": "stdout"
        }
      ]
    },
    {
      "cell_type": "code",
      "metadata": {
        "id": "_EYqoaIJXhSS",
        "outputId": "1379e847-9d3e-4087-ce9d-f323ba27395b",
        "colab": {
          "base_uri": "https://localhost:8080/"
        }
      },
      "source": [
        "# unzip folder \n",
        "!unzip financial-times-brexit-articles-database.zip"
      ],
      "execution_count": 6,
      "outputs": [
        {
          "output_type": "stream",
          "text": [
            "Archive:  financial-times-brexit-articles-database.zip\n",
            "  inflating: financial_times_brexit_database.csv  \n"
          ],
          "name": "stdout"
        }
      ]
    },
    {
      "cell_type": "code",
      "metadata": {
        "id": "T3hRRVzcX2tF"
      },
      "source": [
        "import pandas as pd \n",
        "df = pd.read_csv('financial_times_brexit_database.csv',low_memory=False,sep=',',index_col=0)"
      ],
      "execution_count": 55,
      "outputs": []
    },
    {
      "cell_type": "code",
      "metadata": {
        "id": "LqW02Jg3foX-",
        "outputId": "40f83064-ac15-4b2a-b3a1-577dea33da75",
        "colab": {
          "base_uri": "https://localhost:8080/",
          "height": 208
        }
      },
      "source": [
        "df.drop(columns=['url','reference_time','title','page'],inplace=True)\n",
        "df.head()"
      ],
      "execution_count": 57,
      "outputs": [
        {
          "output_type": "execute_result",
          "data": {
            "text/html": [
              "<div>\n",
              "<style scoped>\n",
              "    .dataframe tbody tr th:only-of-type {\n",
              "        vertical-align: middle;\n",
              "    }\n",
              "\n",
              "    .dataframe tbody tr th {\n",
              "        vertical-align: top;\n",
              "    }\n",
              "\n",
              "    .dataframe thead th {\n",
              "        text-align: right;\n",
              "    }\n",
              "</style>\n",
              "<table border=\"1\" class=\"dataframe\">\n",
              "  <thead>\n",
              "    <tr style=\"text-align: right;\">\n",
              "      <th></th>\n",
              "      <th>comment_count</th>\n",
              "      <th>authors</th>\n",
              "      <th>content</th>\n",
              "      <th>processed</th>\n",
              "    </tr>\n",
              "  </thead>\n",
              "  <tbody>\n",
              "    <tr>\n",
              "      <th>0</th>\n",
              "      <td>91.0</td>\n",
              "      <td>['Antonia Cundy']</td>\n",
              "      <td>NaN</td>\n",
              "      <td>True</td>\n",
              "    </tr>\n",
              "    <tr>\n",
              "      <th>1</th>\n",
              "      <td>340.0</td>\n",
              "      <td>['George Parker', 'Jim Brunsden', 'Michael Peel']</td>\n",
              "      <td>EU governments will make a final push this wee...</td>\n",
              "      <td>True</td>\n",
              "    </tr>\n",
              "    <tr>\n",
              "      <th>2</th>\n",
              "      <td>426.0</td>\n",
              "      <td>['Jim Brunsden']</td>\n",
              "      <td>EU governments will make a final push this wee...</td>\n",
              "      <td>True</td>\n",
              "    </tr>\n",
              "    <tr>\n",
              "      <th>3</th>\n",
              "      <td>62.0</td>\n",
              "      <td>[]</td>\n",
              "      <td>JPMorgan Chase is in talks with London regulat...</td>\n",
              "      <td>True</td>\n",
              "    </tr>\n",
              "    <tr>\n",
              "      <th>4</th>\n",
              "      <td>NaN</td>\n",
              "      <td>['Laura Hughes']</td>\n",
              "      <td>The first of the old-style dark blue British p...</td>\n",
              "      <td>True</td>\n",
              "    </tr>\n",
              "  </tbody>\n",
              "</table>\n",
              "</div>"
            ],
            "text/plain": [
              "   comment_count  ... processed\n",
              "0           91.0  ...      True\n",
              "1          340.0  ...      True\n",
              "2          426.0  ...      True\n",
              "3           62.0  ...      True\n",
              "4            NaN  ...      True\n",
              "\n",
              "[5 rows x 4 columns]"
            ]
          },
          "metadata": {
            "tags": []
          },
          "execution_count": 57
        }
      ]
    },
    {
      "cell_type": "code",
      "metadata": {
        "id": "v2E2bipGlBDz"
      },
      "source": [
        "# Get rid of unprocessed articles \n",
        "df.drop(df[(df.processed== False)].index,inplace=True)"
      ],
      "execution_count": 60,
      "outputs": []
    },
    {
      "cell_type": "code",
      "metadata": {
        "id": "x5NEJHCr22dz",
        "outputId": "40dab4a8-74c6-4739-db03-f0f1b7fda26e",
        "colab": {
          "base_uri": "https://localhost:8080/"
        }
      },
      "source": [
        "df.shape "
      ],
      "execution_count": 62,
      "outputs": [
        {
          "output_type": "execute_result",
          "data": {
            "text/plain": [
              "(4747, 4)"
            ]
          },
          "metadata": {
            "tags": []
          },
          "execution_count": 62
        }
      ]
    },
    {
      "cell_type": "code",
      "metadata": {
        "id": "zNdsG1CN3OFT"
      },
      "source": [
        "# Drop articles with empty \n",
        "df.dropna(subset=['content'],inplace=True)"
      ],
      "execution_count": 66,
      "outputs": []
    },
    {
      "cell_type": "code",
      "metadata": {
        "id": "tIxE1OIU3cXN",
        "outputId": "60ab607d-0b0d-4e7e-e602-33fb5f7349c5",
        "colab": {
          "base_uri": "https://localhost:8080/"
        }
      },
      "source": [
        "# 2523 Articles in total \n",
        "df.shape"
      ],
      "execution_count": 65,
      "outputs": [
        {
          "output_type": "execute_result",
          "data": {
            "text/plain": [
              "(2523, 4)"
            ]
          },
          "metadata": {
            "tags": []
          },
          "execution_count": 65
        }
      ]
    },
    {
      "cell_type": "code",
      "metadata": {
        "id": "cL73Kf9GY-zt"
      },
      "source": [
        "# TODO \n",
        "# Convert articles to a text file or loop through each row \n",
        "\n",
        "import spacy\n",
        "nlp = spacy.load('en')\n"
      ],
      "execution_count": 8,
      "outputs": []
    },
    {
      "cell_type": "code",
      "metadata": {
        "id": "XN_Dw8kTp9jL"
      },
      "source": [
        "\n",
        "# tfile = open('articles.txt', 'w')\n",
        "# tfile.write(df['articles'].to_string())\n",
        "# tfile.close()"
      ],
      "execution_count": null,
      "outputs": []
    },
    {
      "cell_type": "code",
      "metadata": {
        "id": "1lEk2XgQcbVR"
      },
      "source": [
        ""
      ],
      "execution_count": null,
      "outputs": []
    },
    {
      "cell_type": "code",
      "metadata": {
        "id": "j_W8VqupWqnL"
      },
      "source": [
        "# Process `text` with Spacy NLP Parser\n",
        "text = read_file(df['article'])\n",
        "processed_text = nlp(text)"
      ],
      "execution_count": null,
      "outputs": []
    },
    {
      "cell_type": "code",
      "metadata": {
        "id": "bahMcxnlVNY7"
      },
      "source": [
        "# How many sentences are in each article?\n",
        "sentences = [s for s in processed_text.sents]\n",
        "print(len(sentences))\n",
        "\n",
        "# Print sentences from index 10 to index 15, to make sure that we have parsed the correct book\n",
        "print(sentences[10:15])"
      ],
      "execution_count": null,
      "outputs": []
    },
    {
      "cell_type": "code",
      "metadata": {
        "id": "Hgx_OUmBcq5Q"
      },
      "source": [
        "# Extract all the personal names of key characters from articles and count their occurrences. \n",
        "# Expected output is a list in the following form: [('elizabeth', 622), ('darcy', 312), ('jane', 286), ('bennet', 266) ...].\n",
        "\n",
        "from collections import Counter, defaultdict\n",
        "\n",
        "def find_character_occurences(doc):\n",
        "    \"\"\"\n",
        "    Return a list of actors from `doc` with corresponding occurences.\n",
        "    \n",
        "    :param doc: Spacy NLP parsed document\n",
        "    :return: list of tuples in form\n",
        "        [('Boris', 622), ('darcy', 312), ('jane', 286), ('bennet', 266)]\n",
        "    \"\"\"\n",
        "    \n",
        "    characters = Counter()\n",
        "    for ent in processed_text.ents:\n",
        "        if ent.label_ == 'PERSON':\n",
        "            characters[ent.lemma_] += 1\n",
        "            \n",
        "    return characters.most_common()\n",
        "\n",
        "print(find_character_occurences(processed_text)[:20])"
      ],
      "execution_count": null,
      "outputs": []
    }
  ]
}