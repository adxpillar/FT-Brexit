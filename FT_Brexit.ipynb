{
  "nbformat": 4,
  "nbformat_minor": 0,
  "metadata": {
    "colab": {
      "name": "FT-Brexit.ipynb",
      "provenance": [],
      "collapsed_sections": [],
      "authorship_tag": "ABX9TyPw/CY5nOXwgNDVPZ7lWB+g"
    },
    "kernelspec": {
      "name": "python3",
      "display_name": "Python 3"
    }
  },
  "cells": [
    {
      "cell_type": "markdown",
      "metadata": {
        "id": "yQUf6XhMZ2Ch"
      },
      "source": [
        "### Real text analysis of Financial Times brexit articles with spaCy\n",
        "We would like to:\n",
        "Extract the names of all the characters mentioned in the all of the Financial Times brexit articles published from 07/2018 to 02/2020.  \n",
        "Visualize characters' occurences with regards to relative position in all articles.  \n",
        "Authomatically describe any character from the database of articles.  \n",
        "Find out which characters have been mentioned in a context of 'no deal'.  \n",
        "Build keywords extraction that could be used to display a word cloud.  \n"
      ]
    },
    {
      "cell_type": "code",
      "metadata": {
        "id": "wCPkhbRbTptR"
      },
      "source": [
        "# Download data from Kaggle \n",
        "# install kaggle through kaggle json\n",
        "!pip install -q Kaggle"
      ],
      "execution_count": 1,
      "outputs": []
    },
    {
      "cell_type": "code",
      "metadata": {
        "id": "lLyO2UCGT8Qn"
      },
      "source": [
        "# upload kaggle json \n",
        "from google.colab import files \n",
        "files.upload()"
      ],
      "execution_count": 6,
      "outputs": []
    },
    {
      "cell_type": "code",
      "metadata": {
        "id": "pXn24CLPUFGB",
        "outputId": "214bc7ac-2637-4224-9ce2-3d3ab73d103f",
        "colab": {
          "base_uri": "https://localhost:8080/",
          "height": 37
        }
      },
      "source": [
        "# create a new folder named kaggle, \n",
        "# copy kaggle.json into the kaggle folder, \n",
        "# and set read-write permissions only for you(user)\n",
        "!mkdir -p ~/.kaggle\n",
        "!cp kaggle.json ~/.kaggle/\n",
        "'chmod 600 /root/.kaggle/kaggle.json'"
      ],
      "execution_count": 4,
      "outputs": [
        {
          "output_type": "execute_result",
          "data": {
            "application/vnd.google.colaboratory.intrinsic+json": {
              "type": "string"
            },
            "text/plain": [
              "'chmod 600 /root/.kaggle/kaggle.json'"
            ]
          },
          "metadata": {
            "tags": []
          },
          "execution_count": 4
        }
      ]
    },
    {
      "cell_type": "code",
      "metadata": {
        "id": "cRrNhsHsVE16",
        "outputId": "9ae839dc-c2b1-4ebd-e5a7-8a532a171e17",
        "colab": {
          "base_uri": "https://localhost:8080/"
        }
      },
      "source": [
        "# download dataset through data API \n",
        "!kaggle datasets download -d beenoyt/financial-times-brexit-articles-database\n"
      ],
      "execution_count": 5,
      "outputs": [
        {
          "output_type": "stream",
          "text": [
            "Warning: Your Kaggle API key is readable by other users on this system! To fix this, you can run 'chmod 600 /root/.kaggle/kaggle.json'\n",
            "Downloading financial-times-brexit-articles-database.zip to /content\n",
            "  0% 0.00/3.03M [00:00<?, ?B/s]\n",
            "100% 3.03M/3.03M [00:00<00:00, 49.9MB/s]\n"
          ],
          "name": "stdout"
        }
      ]
    },
    {
      "cell_type": "code",
      "metadata": {
        "id": "_EYqoaIJXhSS",
        "outputId": "0befd8db-f2d6-4ba0-f560-29060ef7a28f",
        "colab": {
          "base_uri": "https://localhost:8080/"
        }
      },
      "source": [
        "# unzip folder \n",
        "!unzip financial-times-brexit-articles-database.zip"
      ],
      "execution_count": 7,
      "outputs": [
        {
          "output_type": "stream",
          "text": [
            "Archive:  financial-times-brexit-articles-database.zip\n",
            "  inflating: financial_times_brexit_database.csv  \n"
          ],
          "name": "stdout"
        }
      ]
    },
    {
      "cell_type": "code",
      "metadata": {
        "id": "T3hRRVzcX2tF"
      },
      "source": [
        "import pandas as pd \n",
        "df = pd.read_csv('financial_times_brexit_database.csv',low_memory=False,sep=',',index_col=0)"
      ],
      "execution_count": 8,
      "outputs": []
    },
    {
      "cell_type": "code",
      "metadata": {
        "id": "LqW02Jg3foX-",
        "outputId": "ed3d0e01-4839-4704-cf74-d25801a00eec",
        "colab": {
          "base_uri": "https://localhost:8080/",
          "height": 208
        }
      },
      "source": [
        "df.drop(columns=['url','reference_time','title','page'],inplace=True)\n",
        "df.head()"
      ],
      "execution_count": 9,
      "outputs": [
        {
          "output_type": "execute_result",
          "data": {
            "text/html": [
              "<div>\n",
              "<style scoped>\n",
              "    .dataframe tbody tr th:only-of-type {\n",
              "        vertical-align: middle;\n",
              "    }\n",
              "\n",
              "    .dataframe tbody tr th {\n",
              "        vertical-align: top;\n",
              "    }\n",
              "\n",
              "    .dataframe thead th {\n",
              "        text-align: right;\n",
              "    }\n",
              "</style>\n",
              "<table border=\"1\" class=\"dataframe\">\n",
              "  <thead>\n",
              "    <tr style=\"text-align: right;\">\n",
              "      <th></th>\n",
              "      <th>comment_count</th>\n",
              "      <th>authors</th>\n",
              "      <th>content</th>\n",
              "      <th>processed</th>\n",
              "    </tr>\n",
              "  </thead>\n",
              "  <tbody>\n",
              "    <tr>\n",
              "      <th>0</th>\n",
              "      <td>91.0</td>\n",
              "      <td>['Antonia Cundy']</td>\n",
              "      <td>NaN</td>\n",
              "      <td>True</td>\n",
              "    </tr>\n",
              "    <tr>\n",
              "      <th>1</th>\n",
              "      <td>340.0</td>\n",
              "      <td>['George Parker', 'Jim Brunsden', 'Michael Peel']</td>\n",
              "      <td>EU governments will make a final push this wee...</td>\n",
              "      <td>True</td>\n",
              "    </tr>\n",
              "    <tr>\n",
              "      <th>2</th>\n",
              "      <td>426.0</td>\n",
              "      <td>['Jim Brunsden']</td>\n",
              "      <td>EU governments will make a final push this wee...</td>\n",
              "      <td>True</td>\n",
              "    </tr>\n",
              "    <tr>\n",
              "      <th>3</th>\n",
              "      <td>62.0</td>\n",
              "      <td>[]</td>\n",
              "      <td>JPMorgan Chase is in talks with London regulat...</td>\n",
              "      <td>True</td>\n",
              "    </tr>\n",
              "    <tr>\n",
              "      <th>4</th>\n",
              "      <td>NaN</td>\n",
              "      <td>['Laura Hughes']</td>\n",
              "      <td>The first of the old-style dark blue British p...</td>\n",
              "      <td>True</td>\n",
              "    </tr>\n",
              "  </tbody>\n",
              "</table>\n",
              "</div>"
            ],
            "text/plain": [
              "   comment_count  ... processed\n",
              "0           91.0  ...      True\n",
              "1          340.0  ...      True\n",
              "2          426.0  ...      True\n",
              "3           62.0  ...      True\n",
              "4            NaN  ...      True\n",
              "\n",
              "[5 rows x 4 columns]"
            ]
          },
          "metadata": {
            "tags": []
          },
          "execution_count": 9
        }
      ]
    },
    {
      "cell_type": "code",
      "metadata": {
        "id": "v2E2bipGlBDz"
      },
      "source": [
        "# Get rid of unprocessed articles \n",
        "df.drop(df[(df.processed== False)].index,inplace=True)"
      ],
      "execution_count": 10,
      "outputs": []
    },
    {
      "cell_type": "code",
      "metadata": {
        "id": "x5NEJHCr22dz",
        "outputId": "1d1bca88-22bd-47d4-b118-eb1fbef538ed",
        "colab": {
          "base_uri": "https://localhost:8080/"
        }
      },
      "source": [
        "df.shape "
      ],
      "execution_count": 11,
      "outputs": [
        {
          "output_type": "execute_result",
          "data": {
            "text/plain": [
              "(4747, 4)"
            ]
          },
          "metadata": {
            "tags": []
          },
          "execution_count": 11
        }
      ]
    },
    {
      "cell_type": "code",
      "metadata": {
        "id": "zNdsG1CN3OFT"
      },
      "source": [
        "# Drop articles with empty \n",
        "df.dropna(subset=['content'],inplace=True)"
      ],
      "execution_count": 12,
      "outputs": []
    },
    {
      "cell_type": "code",
      "metadata": {
        "id": "tIxE1OIU3cXN",
        "outputId": "4307d4dc-2fbc-4b5c-a5fb-06e2ba4d4ef2",
        "colab": {
          "base_uri": "https://localhost:8080/"
        }
      },
      "source": [
        "# 2523 Articles in total \n",
        "df.shape"
      ],
      "execution_count": 13,
      "outputs": [
        {
          "output_type": "execute_result",
          "data": {
            "text/plain": [
              "(2523, 4)"
            ]
          },
          "metadata": {
            "tags": []
          },
          "execution_count": 13
        }
      ]
    },
    {
      "cell_type": "code",
      "metadata": {
        "id": "YPJ237i0mJuO"
      },
      "source": [
        "# Drop irrelevant columns \n",
        "df.drop(columns=['comment_count','authors','processed'],axis=1,inplace=True)"
      ],
      "execution_count": 34,
      "outputs": []
    },
    {
      "cell_type": "code",
      "metadata": {
        "id": "y9vWp4JPmeIT",
        "outputId": "4243afb3-4432-4e00-f72a-c1ef67e0ac0b",
        "colab": {
          "base_uri": "https://localhost:8080/",
          "height": 208
        }
      },
      "source": [
        "df.head()"
      ],
      "execution_count": 35,
      "outputs": [
        {
          "output_type": "execute_result",
          "data": {
            "text/html": [
              "<div>\n",
              "<style scoped>\n",
              "    .dataframe tbody tr th:only-of-type {\n",
              "        vertical-align: middle;\n",
              "    }\n",
              "\n",
              "    .dataframe tbody tr th {\n",
              "        vertical-align: top;\n",
              "    }\n",
              "\n",
              "    .dataframe thead th {\n",
              "        text-align: right;\n",
              "    }\n",
              "</style>\n",
              "<table border=\"1\" class=\"dataframe\">\n",
              "  <thead>\n",
              "    <tr style=\"text-align: right;\">\n",
              "      <th></th>\n",
              "      <th>content</th>\n",
              "    </tr>\n",
              "  </thead>\n",
              "  <tbody>\n",
              "    <tr>\n",
              "      <th>1</th>\n",
              "      <td>EU governments will make a final push this wee...</td>\n",
              "    </tr>\n",
              "    <tr>\n",
              "      <th>2</th>\n",
              "      <td>EU governments will make a final push this wee...</td>\n",
              "    </tr>\n",
              "    <tr>\n",
              "      <th>3</th>\n",
              "      <td>JPMorgan Chase is in talks with London regulat...</td>\n",
              "    </tr>\n",
              "    <tr>\n",
              "      <th>4</th>\n",
              "      <td>The first of the old-style dark blue British p...</td>\n",
              "    </tr>\n",
              "    <tr>\n",
              "      <th>5</th>\n",
              "      <td>From popcorn producers to cloth and cardboard ...</td>\n",
              "    </tr>\n",
              "  </tbody>\n",
              "</table>\n",
              "</div>"
            ],
            "text/plain": [
              "                                             content\n",
              "1  EU governments will make a final push this wee...\n",
              "2  EU governments will make a final push this wee...\n",
              "3  JPMorgan Chase is in talks with London regulat...\n",
              "4  The first of the old-style dark blue British p...\n",
              "5  From popcorn producers to cloth and cardboard ..."
            ]
          },
          "metadata": {
            "tags": []
          },
          "execution_count": 35
        }
      ]
    },
    {
      "cell_type": "code",
      "metadata": {
        "id": "cL73Kf9GY-zt"
      },
      "source": [
        "# TODO \n",
        "# Convert articles to a text file or loop through each row \n",
        "\n",
        "for index, row in df.iterrows():\n",
        "  if index > len(df):\n",
        "    break\n",
        "  else:\n",
        "    f = open(str(index)+'.txt','w')\n",
        "    f.write(row[0])\n",
        "    f.close()\n",
        "    index+=1\n"
      ],
      "execution_count": 40,
      "outputs": []
    },
    {
      "cell_type": "code",
      "metadata": {
        "id": "6qDrkhAki6LT"
      },
      "source": [
        "import spacy \n",
        "nlp = spacy.load('en')"
      ],
      "execution_count": 16,
      "outputs": []
    },
    {
      "cell_type": "code",
      "metadata": {
        "id": "d5jtqLqAkJwE"
      },
      "source": [
        "def read_file(file_name):\n",
        "    with open(file_name, 'r') as file:\n",
        "        return file.read().decode('utf-8')"
      ],
      "execution_count": 53,
      "outputs": []
    },
    {
      "cell_type": "code",
      "metadata": {
        "id": "Mfrm34IFj3QH"
      },
      "source": [
        ""
      ],
      "execution_count": null,
      "outputs": []
    }
  ]
}