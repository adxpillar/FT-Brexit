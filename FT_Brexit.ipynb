{
  "nbformat": 4,
  "nbformat_minor": 0,
  "metadata": {
    "colab": {
      "name": "FT-Brexit.ipynb",
      "provenance": [],
      "collapsed_sections": [],
      "authorship_tag": "ABX9TyMks1kb89PVRnQ1x9sUyZrG"
    },
    "kernelspec": {
      "name": "python3",
      "display_name": "Python 3"
    }
  },
  "cells": [
    {
      "cell_type": "markdown",
      "metadata": {
        "id": "yQUf6XhMZ2Ch"
      },
      "source": [
        "### Real text analysis of Financial Times brexit articles with spaCy\n",
        "We would like to:\n",
        "Extract the names of all the characters mentioned in the all of the Financial Times brexit articles published from 07/2018 to 02/2020\n",
        "Visualize characters' occurences with regards to relative position in all articles \n",
        "Authomatically describe any character from the database of articles \n",
        "Find out which characters have been mentioned in a context of 'no deal'\n",
        "Build keywords extraction that could be used to display a word cloud"
      ]
    },
    {
      "cell_type": "code",
      "metadata": {
        "id": "wCPkhbRbTptR"
      },
      "source": [
        "# Download data from Kaggle \n",
        "# install kaggle through kaggle json\n",
        "!pip install -q Kaggle"
      ],
      "execution_count": 3,
      "outputs": []
    },
    {
      "cell_type": "code",
      "metadata": {
        "id": "lLyO2UCGT8Qn"
      },
      "source": [
        "# upload kaggle json \n",
        "from google.colab import files \n",
        "files.upload()"
      ],
      "execution_count": 24,
      "outputs": []
    },
    {
      "cell_type": "code",
      "metadata": {
        "id": "pXn24CLPUFGB",
        "outputId": "a6357425-7b87-44cb-c9e0-b1c139a8175c",
        "colab": {
          "base_uri": "https://localhost:8080/",
          "height": 57
        }
      },
      "source": [
        "# create a new folder named kaggle, \n",
        "# copy kaggle.json into the kaggle folder, \n",
        "# and set read-write permissions only for you(user)\n",
        "!mkdir -p ~/.kaggle\n",
        "!cp kaggle.json ~/.kaggle/\n",
        "'chmod 600 /root/.kaggle/kaggle.json'"
      ],
      "execution_count": 10,
      "outputs": [
        {
          "output_type": "execute_result",
          "data": {
            "application/vnd.google.colaboratory.intrinsic+json": {
              "type": "string"
            },
            "text/plain": [
              "'chmod 600 /root/.kaggle/kaggle.json'"
            ]
          },
          "metadata": {
            "tags": []
          },
          "execution_count": 10
        }
      ]
    },
    {
      "cell_type": "code",
      "metadata": {
        "id": "cRrNhsHsVE16",
        "outputId": "265fbcc8-718f-449c-d2db-6f93b5913c38",
        "colab": {
          "base_uri": "https://localhost:8080/",
          "height": 108
        }
      },
      "source": [
        "# download dataset through data API \n",
        "!kaggle datasets download -d beenoyt/financial-times-brexit-articles-database\n"
      ],
      "execution_count": 13,
      "outputs": [
        {
          "output_type": "stream",
          "text": [
            "Warning: Your Kaggle API key is readable by other users on this system! To fix this, you can run 'chmod 600 /root/.kaggle/kaggle.json'\n",
            "Downloading financial-times-brexit-articles-database.zip to /content\n",
            "  0% 0.00/3.03M [00:00<?, ?B/s]\n",
            "100% 3.03M/3.03M [00:00<00:00, 101MB/s]\n"
          ],
          "name": "stdout"
        }
      ]
    },
    {
      "cell_type": "code",
      "metadata": {
        "id": "_EYqoaIJXhSS",
        "outputId": "7933b330-b3c0-48df-b022-35efc3e5a383",
        "colab": {
          "base_uri": "https://localhost:8080/",
          "height": 72
        }
      },
      "source": [
        "# unzip folder \n",
        "!unzip financial-times-brexit-articles-database.zip"
      ],
      "execution_count": 15,
      "outputs": [
        {
          "output_type": "stream",
          "text": [
            "Archive:  financial-times-brexit-articles-database.zip\n",
            "  inflating: financial_times_brexit_database.csv  \n"
          ],
          "name": "stdout"
        }
      ]
    },
    {
      "cell_type": "code",
      "metadata": {
        "id": "T3hRRVzcX2tF"
      },
      "source": [
        "import pandas as pd \n",
        "df = pd.read_csv('financial_times_brexit_database.csv',low_memory=False,sep=',',index_col=0)"
      ],
      "execution_count": 22,
      "outputs": []
    },
    {
      "cell_type": "code",
      "metadata": {
        "id": "cL73Kf9GY-zt"
      },
      "source": [
        ""
      ],
      "execution_count": null,
      "outputs": []
    }
  ]
}